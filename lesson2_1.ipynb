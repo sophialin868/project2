{
 "cells": [
  {
   "cell_type": "code",
   "execution_count": 2,
   "metadata": {},
   "outputs": [
    {
     "name": "stdout",
     "output_type": "stream",
     "text": [
      "123\n"
     ]
    }
   ],
   "source": [
    "name = input(\"請問你愛我嗎?\")\n",
    "print(name)"
   ]
  },
  {
   "cell_type": "code",
   "execution_count": 4,
   "metadata": {},
   "outputs": [
    {
     "name": "stdout",
     "output_type": "stream",
     "text": [
      "你的姓名是字串:name\n"
     ]
    }
   ],
   "source": [
    "print(\"你的姓名是字串:name\")"
   ]
  },
  {
   "cell_type": "code",
   "execution_count": 8,
   "metadata": {},
   "outputs": [
    {
     "name": "stdout",
     "output_type": "stream",
     "text": [
      "你的姓名是:123\n"
     ]
    }
   ],
   "source": [
    "print(f\"你的姓名是:{name}\")"
   ]
  },
  {
   "cell_type": "code",
   "execution_count": 12,
   "metadata": {},
   "outputs": [
    {
     "name": "stdout",
     "output_type": "stream",
     "text": [
      "你的姓名是美女\n",
      "中文分數是89,英文分數是80\n",
      "總分是169,平均是84.5\n",
      "<class 'float'>\n"
     ]
    }
   ],
   "source": [
    "name=\"美女\"\n",
    "chinese=89\n",
    "english=80\n",
    "sum=chinese+english\n",
    "average=sum/2\n",
    "print(f\"你的姓名是{name}\")\n",
    "print(f\"中文分數是{chinese},英文分數是{english}\")\n",
    "print(f\"總分是{sum},平均是{average}\")\n",
    "print(type(average))"
   ]
  },
  {
   "cell_type": "code",
   "execution_count": 29,
   "metadata": {},
   "outputs": [
    {
     "name": "stdout",
     "output_type": "stream",
     "text": [
      "國文分數88.9,英文分數69,總分157.9\n"
     ]
    }
   ],
   "source": [
    "chinese=eval(input(\"請問國文分數:\"))\n",
    "english=eval(input(\"英文分數\"))\n",
    "#sum=chinese+english\n",
    "print(f\"國文分數{chinese},英文分數{english},總分{chinese+english}\")"
   ]
  },
  {
   "cell_type": "code",
   "execution_count": 28,
   "metadata": {},
   "outputs": [
    {
     "data": {
      "text/plain": [
       "167"
      ]
     },
     "execution_count": 28,
     "metadata": {},
     "output_type": "execute_result"
    }
   ],
   "source": [
    "int(eval(\"90+77.8\"))\n"
   ]
  },
  {
   "cell_type": "code",
   "execution_count": 34,
   "metadata": {},
   "outputs": [
    {
     "data": {
      "text/plain": [
       "10"
      ]
     },
     "execution_count": 34,
     "metadata": {},
     "output_type": "execute_result"
    }
   ],
   "source": [
    "2*(1+2)**2-2**2*2"
   ]
  },
  {
   "cell_type": "code",
   "execution_count": 39,
   "metadata": {},
   "outputs": [
    {
     "name": "stdout",
     "output_type": "stream",
     "text": [
      "請計算梯型面積\n",
      "面積是231.0\n"
     ]
    }
   ],
   "source": [
    "print(\"請計算梯型面積\")\n",
    "top=eval(input(\"請輸入上底\"))\n",
    "bottom=eval(input(\"請輸入下底\"))\n",
    "height=eval(input(\"請輸入高\"))\n",
    "print(f\"面積是{(top+bottom)*height/2}\")"
   ]
  },
  {
   "cell_type": "code",
   "execution_count": 42,
   "metadata": {},
   "outputs": [
    {
     "data": {
      "text/plain": [
       "45"
      ]
     },
     "execution_count": 42,
     "metadata": {},
     "output_type": "execute_result"
    }
   ],
   "source": [
    "import math\n",
    "round(45.3)"
   ]
  }
 ],
 "metadata": {
  "kernelspec": {
   "display_name": "Python 3.10.8 64-bit",
   "language": "python",
   "name": "python3"
  },
  "language_info": {
   "codemirror_mode": {
    "name": "ipython",
    "version": 3
   },
   "file_extension": ".py",
   "mimetype": "text/x-python",
   "name": "python",
   "nbconvert_exporter": "python",
   "pygments_lexer": "ipython3",
   "version": "3.10.8"
  },
  "orig_nbformat": 4,
  "vscode": {
   "interpreter": {
    "hash": "2cecb92da02c8b98f4101d22276476b1c28eb527ceb2bbde7375dd542609dce3"
   }
  }
 },
 "nbformat": 4,
 "nbformat_minor": 2
}
