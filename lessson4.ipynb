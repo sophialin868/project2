{
 "cells": [
  {
   "cell_type": "code",
   "execution_count": 3,
   "metadata": {},
   "outputs": [
    {
     "name": "stdout",
     "output_type": "stream",
     "text": [
      "g\n",
      "o\n",
      "o\n",
      "d\n",
      "!\n",
      " \n",
      "w\n",
      "o\n",
      "r\n",
      "l\n",
      "d\n"
     ]
    }
   ],
   "source": [
    "for word in \"good! world\":\n",
    "    print(word)"
   ]
  },
  {
   "cell_type": "code",
   "execution_count": 8,
   "metadata": {},
   "outputs": [
    {
     "name": "stdout",
     "output_type": "stream",
     "text": [
      "30\n"
     ]
    }
   ],
   "source": [
    "m=10\n",
    "m+=20\n",
    "print(m)"
   ]
  },
  {
   "cell_type": "code",
   "execution_count": 13,
   "metadata": {},
   "outputs": [
    {
     "name": "stdout",
     "output_type": "stream",
     "text": [
      "0\n",
      "1\n",
      "2\n",
      "3\n",
      "4\n"
     ]
    }
   ],
   "source": [
    "for i in range(5):\n",
    "   print(i)"
   ]
  },
  {
   "cell_type": "code",
   "execution_count": 15,
   "metadata": {},
   "outputs": [
    {
     "name": "stdout",
     "output_type": "stream",
     "text": [
      "10\n",
      "11\n",
      "12\n",
      "13\n",
      "14\n",
      "15\n",
      "16\n",
      "17\n",
      "18\n",
      "19\n"
     ]
    }
   ],
   "source": [
    "for i in range(10,20):\n",
    "    print (i)"
   ]
  },
  {
   "cell_type": "code",
   "execution_count": 27,
   "metadata": {},
   "outputs": [
    {
     "name": "stdout",
     "output_type": "stream",
     "text": [
      "100\n",
      "99\n",
      "98\n",
      "97\n",
      "96\n",
      "95\n",
      "94\n",
      "93\n",
      "92\n",
      "91\n"
     ]
    }
   ],
   "source": [
    "for a in range(100,90,-1):\n",
    "    print(a)"
   ]
  },
  {
   "cell_type": "code",
   "execution_count": 29,
   "metadata": {},
   "outputs": [
    {
     "name": "stdout",
     "output_type": "stream",
     "text": [
      "1~5:15\n"
     ]
    }
   ],
   "source": [
    "n=int(input(\"請打1~值\"))\n",
    "sum=0\n",
    "for i in range(1,n+1):\n",
    "    sum+=i\n",
    "print(f\"1~{n}:{sum}\")"
   ]
  },
  {
   "cell_type": "code",
   "execution_count": 34,
   "metadata": {},
   "outputs": [
    {
     "name": "stdout",
     "output_type": "stream",
     "text": [
      "1*1=1\t1*2=2\t1*3=3\t1*4=4\t1*5=5\t1*6=6\t1*7=7\t1*8=8\t1*9=9\t\n",
      "2*1=2\t2*2=4\t2*3=6\t2*4=8\t2*5=10\t2*6=12\t2*7=14\t2*8=16\t2*9=18\t\n",
      "3*1=3\t3*2=6\t3*3=9\t3*4=12\t3*5=15\t3*6=18\t3*7=21\t3*8=24\t3*9=27\t\n",
      "4*1=4\t4*2=8\t4*3=12\t4*4=16\t4*5=20\t4*6=24\t4*7=28\t4*8=32\t4*9=36\t\n",
      "5*1=5\t5*2=10\t5*3=15\t5*4=20\t5*5=25\t5*6=30\t5*7=35\t5*8=40\t5*9=45\t\n",
      "6*1=6\t6*2=12\t6*3=18\t6*4=24\t6*5=30\t6*6=36\t6*7=42\t6*8=48\t6*9=54\t\n",
      "7*1=7\t7*2=14\t7*3=21\t7*4=28\t7*5=35\t7*6=42\t7*7=49\t7*8=56\t7*9=63\t\n",
      "8*1=8\t8*2=16\t8*3=24\t8*4=32\t8*5=40\t8*6=48\t8*7=56\t8*8=64\t8*9=72\t\n",
      "9*1=9\t9*2=18\t9*3=27\t9*4=36\t9*5=45\t9*6=54\t9*7=63\t9*8=72\t9*9=81\t\n"
     ]
    }
   ],
   "source": [
    "for i in range(1,10):\n",
    "    for j in range(1,10):\n",
    "        print(f\"{i}*{j}={i*j}\", end=\"\\t\")\n",
    "    print()"
   ]
  },
  {
   "cell_type": "code",
   "execution_count": 42,
   "metadata": {},
   "outputs": [
    {
     "name": "stdout",
     "output_type": "stream",
     "text": [
      "己存4個月,存款為34000\n"
     ]
    }
   ],
   "source": [
    "\n",
    "tatal=0\n",
    "n=0\n",
    "while tatal <30000:\n",
    "    n+=1\n",
    "    temp=int(input(f\"輸入第{n}月存款的金額:\"))\n",
    "    tatal+=temp\n",
    "print(f\"己存{n}個月,存款為{tatal}\")\n",
    "\n"
   ]
  },
  {
   "cell_type": "code",
   "execution_count": 43,
   "metadata": {},
   "outputs": [
    {
     "name": "stdout",
     "output_type": "stream",
     "text": [
      "己存3個月,存款為32000\n"
     ]
    }
   ],
   "source": [
    "total=0\n",
    "n=0\n",
    "while True:\n",
    "    n+=1\n",
    "    temp=int(input(f\"輸入第{n}月存款的金額:\"))\n",
    "    total+=temp\n",
    "    if total>30000:\n",
    "        break\n",
    "print(f\"己存{n}個月,存款為{total}\")\n"
   ]
  },
  {
   "cell_type": "code",
   "execution_count": 33,
   "metadata": {},
   "outputs": [
    {
     "name": "stdout",
     "output_type": "stream",
     "text": [
      "原價:7900,實付金額是:7900.0\n"
     ]
    }
   ],
   "source": [
    "'''\n",
    "輸入顧客購買金額，若金額在\n",
    "100000元打8折. \n",
    "50000打85折. \n",
    "30000打9折. \n",
    "10000打95折. \n",
    "\n",
    "請輸入購買金額:130000\n",
    "實付金額是: 104000.0 元\n",
    "'''\n",
    "\n",
    "購買金額 = eval(input(\"請輸入購買金額:\"))\n",
    "if 購買金額 >= 100000:\n",
    "   實付金額=購買金額*0.8\n",
    "elif 購買金額 >= 50000:\n",
    "  實付金額=購買金額*0.85\n",
    "elif 購買金額 >= 30000:\n",
    "   實付金額=購買金額*0.9\n",
    "elif 購買金額 >= 10000:\n",
    "   實付金額=購買金額*0.95\n",
    "else:\n",
    "   實付金額=購買金額\n",
    "print(f\"原價:{購買金額},實付金額是:{實付金額:.1f}\")"
   ]
  },
  {
   "cell_type": "code",
   "execution_count": 47,
   "metadata": {},
   "outputs": [
    {
     "name": "stdout",
     "output_type": "stream",
     "text": [
      "-2.0\n"
     ]
    }
   ],
   "source": [
    "'''\n",
    "巢狀選擇\n",
    "• 如果x不是負數，則傳回值為 x ** (1 / y)。\n",
    "• 如果x是負數而且y為偶數，則傳回值為\"虛數\"。\n",
    "• 如果x是負數而且y為奇數，則傳回值為 -(-x) ** (1 / y)。\n",
    "\n",
    "'''\n",
    "\n",
    "x=eval(input(\"請輸入x:\"))\n",
    "y=eval(input(\"請輸入y:\"))\n",
    "if x>0:\n",
    "   print(x**(1/y))\n",
    "else:\n",
    "   if x<0 and y%2==0:\n",
    "     print(\"虛數\")\n",
    "   else:\n",
    "     print(-(-x)**(1/y))"
   ]
  }
 ],
 "metadata": {
  "kernelspec": {
   "display_name": "Python 3.10.8 64-bit",
   "language": "python",
   "name": "python3"
  },
  "language_info": {
   "codemirror_mode": {
    "name": "ipython",
    "version": 3
   },
   "file_extension": ".py",
   "mimetype": "text/x-python",
   "name": "python",
   "nbconvert_exporter": "python",
   "pygments_lexer": "ipython3",
   "version": "3.10.8"
  },
  "orig_nbformat": 4,
  "vscode": {
   "interpreter": {
    "hash": "2cecb92da02c8b98f4101d22276476b1c28eb527ceb2bbde7375dd542609dce3"
   }
  }
 },
 "nbformat": 4,
 "nbformat_minor": 2
}
