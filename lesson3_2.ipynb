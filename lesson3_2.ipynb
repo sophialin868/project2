{
 "cells": [
  {
   "cell_type": "code",
   "execution_count": 2,
   "metadata": {},
   "outputs": [
    {
     "name": "stdout",
     "output_type": "stream",
     "text": [
      "獎金是:500\n"
     ]
    }
   ],
   "source": [
    "chinese=int(input(\"輸入國文分數\"))\n",
    "english=int(input(\"輸入英文分數\"))\n",
    "bonus=0\n",
    "if chinese==100 and english==100:\n",
    "   bonus=1000\n",
    "elif chinese==100 or english==100:\n",
    "   bonus=500\n",
    "else:\n",
    "    bonus=0\n",
    "print (f\"獎金是:{bonus}\")"
   ]
  },
  {
   "cell_type": "code",
   "execution_count": 9,
   "metadata": {},
   "outputs": [
    {
     "name": "stdout",
     "output_type": "stream",
     "text": [
      "bmi是:18.29\n",
      "過輕\n"
     ]
    }
   ],
   "source": [
    "height=eval(input(\"輸入身高(公分)：\"))\n",
    "weight=eval(input(\"輸入體重(公斤）：\"))\n",
    "bmi=weight/(height/100)**2\n",
    "print(f\"bmi是:{bmi:.2f}\")\n",
    "if bmi>=35:\n",
    "    print(\"重度肥胖\")\n",
    "elif bmi>=30:\n",
    "    print(\"中度肥胖\")\n",
    "elif bmi>=27:\n",
    "    print(\"輕度肥胖\")\n",
    "elif bmi>=24:\n",
    "    print(\"過重\")\n",
    "elif bmi>=18.5:\n",
    "    print(\"正常\")\n",
    "else: \n",
    "    print(\"過輕\")"
   ]
  }
 ],
 "metadata": {
  "kernelspec": {
   "display_name": "Python 3.10.8 64-bit",
   "language": "python",
   "name": "python3"
  },
  "language_info": {
   "codemirror_mode": {
    "name": "ipython",
    "version": 3
   },
   "file_extension": ".py",
   "mimetype": "text/x-python",
   "name": "python",
   "nbconvert_exporter": "python",
   "pygments_lexer": "ipython3",
   "version": "3.10.8"
  },
  "orig_nbformat": 4,
  "vscode": {
   "interpreter": {
    "hash": "2cecb92da02c8b98f4101d22276476b1c28eb527ceb2bbde7375dd542609dce3"
   }
  }
 },
 "nbformat": 4,
 "nbformat_minor": 2
}
