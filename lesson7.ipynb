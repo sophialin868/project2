{
 "cells": [
  {
   "cell_type": "code",
   "execution_count": 3,
   "metadata": {},
   "outputs": [
    {
     "data": {
      "text/plain": [
       "0.07564952678375014"
      ]
     },
     "execution_count": 3,
     "metadata": {},
     "output_type": "execute_result"
    }
   ],
   "source": [
    "import random\n",
    "random.random()\n"
   ]
  },
  {
   "cell_type": "code",
   "execution_count": 5,
   "metadata": {},
   "outputs": [
    {
     "data": {
      "text/plain": [
       "5.654497555140198"
      ]
     },
     "execution_count": 5,
     "metadata": {},
     "output_type": "execute_result"
    }
   ],
   "source": [
    "random.uniform(1,10)"
   ]
  },
  {
   "cell_type": "code",
   "execution_count": 6,
   "metadata": {},
   "outputs": [
    {
     "data": {
      "text/plain": [
       "16"
      ]
     },
     "execution_count": 6,
     "metadata": {},
     "output_type": "execute_result"
    }
   ],
   "source": [
    "random.randint(2,99)"
   ]
  },
  {
   "cell_type": "code",
   "execution_count": 12,
   "metadata": {},
   "outputs": [
    {
     "name": "stdout",
     "output_type": "stream",
     "text": [
      "====猜數字遊戲\n",
      "答錯\n",
      "答錯\n",
      "答錯\n",
      "答錯\n",
      "猜對了,答案是6\n",
      "你猜了5次\n",
      "結束\n"
     ]
    }
   ],
   "source": [
    "min=1\n",
    "max=8\n",
    "count=0\n",
    "random_value=random.randint(min,max)\n",
    "print(\"====猜數字遊戲\")\n",
    "while True:\n",
    "    count+=1\n",
    "    keyin=int(input(f\"猜數字的範圍{min}~{mix}:\"))\n",
    "    if (keyin==random_value):\n",
    "        print(f\"猜對了,答案是{random_value}\")\n",
    "        print(f\"你猜了{count}次\")\n",
    "        break\n",
    "    else:\n",
    "        print(\"答錯\")\n",
    "print(\"結束\")"
   ]
  },
  {
   "cell_type": "code",
   "execution_count": 23,
   "metadata": {},
   "outputs": [
    {
     "name": "stdout",
     "output_type": "stream",
     "text": [
      "====猜數字遊戲\n",
      "再大點\n",
      "再大點\n",
      "再大點\n",
      "再大點\n",
      "再小點\n",
      "再大點\n",
      "再大點\n",
      "再大點\n",
      "再小點\n",
      "猜對了,答案是84\n",
      "你猜了10次\n",
      "結束\n"
     ]
    }
   ],
   "source": [
    "min=1\n",
    "max=100\n",
    "count=0\n",
    "random_value=random.randint(min,max)\n",
    "print(\"====猜數字遊戲\")\n",
    "while True:\n",
    "    count+=1\n",
    "    keyin=int(input(f\"猜數字的範圍{min}~{max}:\"))\n",
    "    if keyin>=min and keyin<=max:\n",
    "        if (keyin==random_value):\n",
    "            print(f\"猜對了,答案是{random_value}\")\n",
    "            print(f\"你猜了{count}次\")\n",
    "            break\n",
    "        elif keyin>random_value:\n",
    "             print(\"再小點\")\n",
    "             max=keyin-1\n",
    "        elif keyin<random_value:\n",
    "             print(\"再大點\")\n",
    "             min=keyin+1   \n",
    "    else: \n",
    "        print(\"超出範圍\")\n",
    "print(\"結束\")"
   ]
  }
 ],
 "metadata": {
  "kernelspec": {
   "display_name": "Python 3.10.8 64-bit",
   "language": "python",
   "name": "python3"
  },
  "language_info": {
   "codemirror_mode": {
    "name": "ipython",
    "version": 3
   },
   "file_extension": ".py",
   "mimetype": "text/x-python",
   "name": "python",
   "nbconvert_exporter": "python",
   "pygments_lexer": "ipython3",
   "version": "3.10.8"
  },
  "orig_nbformat": 4,
  "vscode": {
   "interpreter": {
    "hash": "2cecb92da02c8b98f4101d22276476b1c28eb527ceb2bbde7375dd542609dce3"
   }
  }
 },
 "nbformat": 4,
 "nbformat_minor": 2
}
