{
 "cells": [
  {
   "cell_type": "code",
   "execution_count": 2,
   "metadata": {},
   "outputs": [
    {
     "name": "stdout",
     "output_type": "stream",
     "text": [
      "Hello! Python\n"
     ]
    }
   ],
   "source": [
    "print(\"Hello! Python\")\n"
   ]
  },
  {
   "cell_type": "code",
   "execution_count": 3,
   "metadata": {},
   "outputs": [
    {
     "data": {
      "text/plain": [
       "False"
      ]
     },
     "execution_count": 3,
     "metadata": {},
     "output_type": "execute_result"
    }
   ],
   "source": [
    "x = 7\n",
    "x == 5 "
   ]
  },
  {
   "cell_type": "code",
   "execution_count": 4,
   "metadata": {},
   "outputs": [
    {
     "data": {
      "text/plain": [
       "True"
      ]
     },
     "execution_count": 4,
     "metadata": {},
     "output_type": "execute_result"
    }
   ],
   "source": [
    "x == 7 "
   ]
  },
  {
   "cell_type": "code",
   "execution_count": 5,
   "metadata": {},
   "outputs": [
    {
     "ename": "ValueError",
     "evalue": "invalid literal for int() with base 10: '78.6'",
     "output_type": "error",
     "traceback": [
      "\u001b[1;31m---------------------------------------------------------------------------\u001b[0m",
      "\u001b[1;31mValueError\u001b[0m                                Traceback (most recent call last)",
      "Cell \u001b[1;32mIn [5], line 2\u001b[0m\n\u001b[0;32m      1\u001b[0m chinese_str\u001b[39m=\u001b[39m\u001b[39minput\u001b[39m(\u001b[39m\"\u001b[39m\u001b[39m輸入國文分數\u001b[39m\u001b[39m\"\u001b[39m)\n\u001b[1;32m----> 2\u001b[0m chinese_int\u001b[39m=\u001b[39m\u001b[39mint\u001b[39;49m(chinese_str)\n\u001b[0;32m      3\u001b[0m \u001b[39mif\u001b[39;00m chinese_int\u001b[39m>\u001b[39m\u001b[39m=\u001b[39m\u001b[39m60\u001b[39m:\n\u001b[0;32m      4\u001b[0m     \u001b[39mprint\u001b[39m(\u001b[39mf\u001b[39m\u001b[39m\"\u001b[39m\u001b[39m國文分數是\u001b[39m\u001b[39m{\u001b[39;00mchinese_int\u001b[39m}\u001b[39;00m\u001b[39m\"\u001b[39m)\n",
      "\u001b[1;31mValueError\u001b[0m: invalid literal for int() with base 10: '78.6'"
     ]
    }
   ],
   "source": [
    "chinese_str=input(\"輸入國文分數\")\n",
    "chinese_int=int(chinese_str)\n",
    "if chinese_int>=60:\n",
    "    print(f\"國文分數是{chinese_int}\")\n",
    "    print(\"及格\")\n",
    "else:\n",
    "    print(\"沒有複習\")\n",
    "    print(\"不及格\")\n",
    "print(\"程式結束\")"
   ]
  },
  {
   "cell_type": "code",
   "execution_count": 8,
   "metadata": {},
   "outputs": [
    {
     "name": "stdout",
     "output_type": "stream",
     "text": [
      "丙\n"
     ]
    }
   ],
   "source": [
    "'''\n",
    "\n",
    "'''\n",
    "chinese=int(input(\"輸入國文分數\"))\n",
    "if chinese>=90:\n",
    "    print(\"優\")\n",
    "elif chinese>=80:\n",
    "    print(\"甲\")\n",
    "elif chinese>=70:\n",
    "    print(\"乙\")\n",
    "elif chinese>=60:\n",
    "    print(\"丙\")\n",
    "else: \n",
    "    print(\"丁\")"
   ]
  },
  {
   "cell_type": "code",
   "execution_count": null,
   "metadata": {},
   "outputs": [],
   "source": []
  }
 ],
 "metadata": {
  "kernelspec": {
   "display_name": "Python 3.10.8 64-bit",
   "language": "python",
   "name": "python3"
  },
  "language_info": {
   "codemirror_mode": {
    "name": "ipython",
    "version": 3
   },
   "file_extension": ".py",
   "mimetype": "text/x-python",
   "name": "python",
   "nbconvert_exporter": "python",
   "pygments_lexer": "ipython3",
   "version": "3.10.8"
  },
  "orig_nbformat": 4,
  "vscode": {
   "interpreter": {
    "hash": "2cecb92da02c8b98f4101d22276476b1c28eb527ceb2bbde7375dd542609dce3"
   }
  }
 },
 "nbformat": 4,
 "nbformat_minor": 2
}
