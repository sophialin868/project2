{
 "cells": [
  {
   "cell_type": "code",
   "execution_count": 3,
   "metadata": {},
   "outputs": [
    {
     "name": "stdout",
     "output_type": "stream",
     "text": [
      "獎金是:500\n"
     ]
    }
   ],
   "source": [
    "chinese=int(input(\"輸入國文分數\"))\n",
    "english=int(input(\"輸入英文分數\"))\n",
    "\n",
    "if chinese==100:\n",
    "    if english==100:\n",
    "        bonus=1000\n",
    "    else:\n",
    "        bonus=500\n",
    "else:\n",
    "    if english==100:\n",
    "        bonus=500\n",
    "    else:\n",
    "        bonus=0\n",
    "print(f\"獎金是:{bonus}\")    "
   ]
  },
  {
   "cell_type": "code",
   "execution_count": null,
   "metadata": {},
   "outputs": [],
   "source": []
  }
 ],
 "metadata": {
  "kernelspec": {
   "display_name": "Python 3.10.8 64-bit",
   "language": "python",
   "name": "python3"
  },
  "language_info": {
   "codemirror_mode": {
    "name": "ipython",
    "version": 3
   },
   "file_extension": ".py",
   "mimetype": "text/x-python",
   "name": "python",
   "nbconvert_exporter": "python",
   "pygments_lexer": "ipython3",
   "version": "3.10.8"
  },
  "orig_nbformat": 4,
  "vscode": {
   "interpreter": {
    "hash": "2cecb92da02c8b98f4101d22276476b1c28eb527ceb2bbde7375dd542609dce3"
   }
  }
 },
 "nbformat": 4,
 "nbformat_minor": 2
}
